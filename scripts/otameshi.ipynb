{
 "cells": [
  {
   "cell_type": "code",
   "execution_count": 1,
   "id": "c663fad2-aded-4952-945a-849eb411febf",
   "metadata": {},
   "outputs": [],
   "source": [
    "#/usr/bin/python\n",
    "# -*- coding: utf-8 -*-\n",
    "\n",
    "import os\n",
    "import sys\n",
    "import json\n",
    "import keys\n",
    "import glob\n",
    "import re\n",
    "from requests_oauthlib import OAuth1Session"
   ]
  },
  {
   "cell_type": "code",
   "execution_count": 2,
   "id": "7b48fcbe-da2f-471d-91cd-965399c4ef3d",
   "metadata": {},
   "outputs": [],
   "source": [
    "#API認証情報\n",
    "CK = keys.CK\n",
    "CS = keys.CS\n",
    "AT = keys.AT\n",
    "ATS = keys.ATS\n",
    "twitter = OAuth1Session(CK,CS,AT,ATS)\n",
    "\n",
    "#API取得\n",
    "search = \"https://api.twitter.com/1.1/search/tweets.json?tweet_mode=extended\"\n",
    "\n",
    "# ツイートの取得設定\n",
    "num = 10\n",
    "keyword = '#VRChatワールド紹介' + ' -filter:retweets'\n",
    "params = {'q' : keyword, 'count' : num}\n",
    "req = twitter.get(search, params = params)"
   ]
  },
  {
   "cell_type": "code",
   "execution_count": 3,
   "id": "5f8b6dda-83d0-49e3-84c7-776953e86a0b",
   "metadata": {},
   "outputs": [],
   "source": [
    "# 画像を保存するディレクトリ\n",
    "image_dir_path = os.path.normpath(os.path.join(os.path.dirname(os.path.abspath(\"__file__\")), \"../images\"))\n",
    "path = os.path.exists(image_dir_path)\n",
    "if not path:\n",
    "    os.mkdir(image_dir_path)"
   ]
  },
  {
   "cell_type": "code",
   "execution_count": 4,
   "id": "3d8dc93a-7d41-4c9e-9bcb-895bb5075546",
   "metadata": {},
   "outputs": [],
   "source": [
    "def generate_image_num():\n",
    "    image_num_max = 50\n",
    "    image_path_list = sorted(glob.glob(image_dir_path + '/[0-9][0-9][0-9].jpg'))\n",
    "    image_name_list = [os.path.basename(p) for p in sorted(image_path_list) if os.path.isfile(p)]\n",
    "\n",
    "    if len(image_name_list) == 0:\n",
    "        image_num = 0\n",
    "    else:\n",
    "        image_num_last = int(re.sub(r\"\\D\", \"\", image_name_list[-1]))\n",
    "        if image_num_last < image_num_max:\n",
    "            image_num = image_num_last + 1\n",
    "        else:\n",
    "            # 一番古いファイルパス\n",
    "            image_path_oldest = sorted(image_path_list, key=lambda f: os.stat(f).st_mtime, reverse=True)[-1]\n",
    "            print(image_path_oldest)\n",
    "            image_num = int(re.sub(r\"\\D\", \"\", image_path_oldest))\n",
    "    \n",
    "    return image_num"
   ]
  },
  {
   "cell_type": "code",
   "execution_count": 5,
   "id": "e794ba9d-c689-42ac-b00d-882e933b5cd3",
   "metadata": {},
   "outputs": [
    {
     "name": "stdout",
     "output_type": "stream",
     "text": [
      "/Users/kuwagata/repos/utsutsuroi_twitter/images/000.jpg\n",
      "/Users/kuwagata/repos/utsutsuroi_twitter/images/001.jpg\n",
      "/Users/kuwagata/repos/utsutsuroi_twitter/images/002.jpg\n",
      "/Users/kuwagata/repos/utsutsuroi_twitter/images/003.jpg\n",
      "/Users/kuwagata/repos/utsutsuroi_twitter/images/004.jpg\n",
      "/Users/kuwagata/repos/utsutsuroi_twitter/images/005.jpg\n",
      "/Users/kuwagata/repos/utsutsuroi_twitter/images/006.jpg\n",
      "/Users/kuwagata/repos/utsutsuroi_twitter/images/007.jpg\n",
      "/Users/kuwagata/repos/utsutsuroi_twitter/images/008.jpg\n",
      "/Users/kuwagata/repos/utsutsuroi_twitter/images/009.jpg\n",
      "/Users/kuwagata/repos/utsutsuroi_twitter/images/010.jpg\n",
      "/Users/kuwagata/repos/utsutsuroi_twitter/images/011.jpg\n",
      "/Users/kuwagata/repos/utsutsuroi_twitter/images/012.jpg\n",
      "/Users/kuwagata/repos/utsutsuroi_twitter/images/013.jpg\n",
      "/Users/kuwagata/repos/utsutsuroi_twitter/images/014.jpg\n",
      "/Users/kuwagata/repos/utsutsuroi_twitter/images/015.jpg\n",
      "/Users/kuwagata/repos/utsutsuroi_twitter/images/016.jpg\n",
      "/Users/kuwagata/repos/utsutsuroi_twitter/images/017.jpg\n",
      "/Users/kuwagata/repos/utsutsuroi_twitter/images/018.jpg\n",
      "/Users/kuwagata/repos/utsutsuroi_twitter/images/019.jpg\n",
      "/Users/kuwagata/repos/utsutsuroi_twitter/images/020.jpg\n",
      "/Users/kuwagata/repos/utsutsuroi_twitter/images/021.jpg\n",
      "/Users/kuwagata/repos/utsutsuroi_twitter/images/022.jpg\n",
      "/Users/kuwagata/repos/utsutsuroi_twitter/images/023.jpg\n",
      "/Users/kuwagata/repos/utsutsuroi_twitter/images/024.jpg\n"
     ]
    }
   ],
   "source": [
    "if req.status_code == 200:\n",
    "    # ツイートの画像を取得\n",
    "    tweets = json.loads(req.content)\n",
    "    for tweet in tweets['statuses']:\n",
    "        if 'media' in tweet['extended_entities']:\n",
    "            for media in tweet['extended_entities']['media']:\n",
    "                media_urls = media['media_url']\n",
    "                downloads = twitter.get(media_urls).content\n",
    "                # 画像を保存\n",
    "                image_num = generate_image_num()\n",
    "                file_name = '{0:03d}'.format(image_num) + '.jpg'\n",
    "                file_path = image_dir_path + '/' + file_name\n",
    "                images = open(file_path, 'wb')\n",
    "                images.write(downloads)\n",
    "                images.close()\n",
    "\n",
    "else:\n",
    "    print(\"ERROR: %d\" % req.status_code)"
   ]
  },
  {
   "cell_type": "code",
   "execution_count": 6,
   "id": "ca4c2709-b1d8-4180-aa28-221f817434aa",
   "metadata": {},
   "outputs": [
    {
     "data": {
      "text/plain": [
       "'No.371\\nワールド名：-Blue-\\n製作者：Luche-\\nQuest対応：非対応\\n最大接続数：15人\\nLink：https://t.co/5Ir4j4Nxzn\\n\\n#VRChat_world写真一枚勝負\\n#VRChat_world紹介 \\n#VRChatワールド紹介 https://t.co/P5pXuhnXzO'"
      ]
     },
     "execution_count": 6,
     "metadata": {},
     "output_type": "execute_result"
    }
   ],
   "source": [
    "tweets['statuses'][0]['full_text']"
   ]
  },
  {
   "cell_type": "code",
   "execution_count": null,
   "id": "e28d5780-0905-4ad7-8b97-d71f660fdcda",
   "metadata": {},
   "outputs": [],
   "source": []
  }
 ],
 "metadata": {
  "kernelspec": {
   "display_name": "Python 3",
   "language": "python",
   "name": "python3"
  },
  "language_info": {
   "codemirror_mode": {
    "name": "ipython",
    "version": 3
   },
   "file_extension": ".py",
   "mimetype": "text/x-python",
   "name": "python",
   "nbconvert_exporter": "python",
   "pygments_lexer": "ipython3",
   "version": "3.9.5"
  }
 },
 "nbformat": 4,
 "nbformat_minor": 5
}
