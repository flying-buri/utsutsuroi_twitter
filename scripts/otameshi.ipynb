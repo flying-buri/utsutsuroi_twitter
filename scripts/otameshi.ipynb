{
 "cells": [
  {
   "cell_type": "code",
   "execution_count": 52,
   "id": "c663fad2-aded-4952-945a-849eb411febf",
   "metadata": {},
   "outputs": [
    {
     "name": "stdout",
     "output_type": "stream",
     "text": [
      "/Users/kuwagata/repos/utsutsuroi_twitter/scripts/../images\n"
     ]
    }
   ],
   "source": [
    "#/usr/bin/python\n",
    "# -*- coding: utf-8 -*-\n",
    "\n",
    "import os\n",
    "import sys\n",
    "import json\n",
    "import keys\n",
    "from requests_oauthlib import OAuth1Session\n",
    "\n",
    "#API認証情報\n",
    "CK = keys.CK\n",
    "CS = keys.CS\n",
    "AT = keys.AT\n",
    "ATS = keys.ATS\n",
    "twitter = OAuth1Session(CK,CS,AT,ATS)\n",
    "\n",
    "#API取得\n",
    "search = \"https://api.twitter.com/1.1/search/tweets.json?tweet_mode=extended\"\n",
    "\n",
    "# 画像を保存するディレクトリ\n",
    "folder_path = os.path.join(os.path.dirname(os.path.abspath(\"__file__\")), \"../images\")\n",
    "path = os.path.exists(folder_path)\n",
    "if not path:\n",
    "    os.mkdir(folder_path)\n",
    "\n",
    "# ツイートの取得設定\n",
    "num = 10\n",
    "keyword = '#VRChatワールド紹介' + ' -filter:retweets'\n",
    "params = {'q' : keyword, 'count' : num}\n",
    "req = twitter.get(search, params = params)\n",
    "image_num = 0\n",
    "\n",
    "if req.status_code == 200:\n",
    "    # ツイートの画像を取得\n",
    "    tweets = json.loads(req.content)\n",
    "    for tweet in tweets['statuses']:\n",
    "        if 'media' in tweet['extended_entities']:\n",
    "            for media in tweet['extended_entities']['media']:\n",
    "                media_urls = media['media_url']\n",
    "                downloads = twitter.get(media_urls).content\n",
    "                # 画像を保存\n",
    "                file_name = '{0:03d}'.format(image_num) + '.jpg'\n",
    "                file_path = folder_path + '/' + file_name\n",
    "                images = open(file_path, 'wb')\n",
    "                images.write(downloads)\n",
    "                images.close()\n",
    "                image_num += 1\n",
    "\n",
    "else:\n",
    "    print(\"ERROR: %d\" % req.status_code)"
   ]
  },
  {
   "cell_type": "code",
   "execution_count": 53,
   "id": "ca4c2709-b1d8-4180-aa28-221f817434aa",
   "metadata": {},
   "outputs": [
    {
     "data": {
      "text/plain": [
       "'少し歩いていると迷ってしまいました。\\n道沿いに行くと鳥居があったのでくぐってみると、どこか違う場所へ・・・。\\nいろんな人が書いた短冊が空に昇って行ってとてもきれいでした！！\\n\\nlin velvet様作\\u3000\\u3000「tanabata lanterns  千願万色 2021」\\n#VRChatワールド紹介 https://t.co/hZxPYzEALG'"
      ]
     },
     "execution_count": 53,
     "metadata": {},
     "output_type": "execute_result"
    }
   ],
   "source": [
    "tweets['statuses'][0]['full_text']"
   ]
  },
  {
   "cell_type": "code",
   "execution_count": null,
   "id": "e7b140bb-ee89-4326-85d8-3972888c749b",
   "metadata": {},
   "outputs": [],
   "source": []
  }
 ],
 "metadata": {
  "kernelspec": {
   "display_name": "Python 3",
   "language": "python",
   "name": "python3"
  },
  "language_info": {
   "codemirror_mode": {
    "name": "ipython",
    "version": 3
   },
   "file_extension": ".py",
   "mimetype": "text/x-python",
   "name": "python",
   "nbconvert_exporter": "python",
   "pygments_lexer": "ipython3",
   "version": "3.9.5"
  }
 },
 "nbformat": 4,
 "nbformat_minor": 5
}
